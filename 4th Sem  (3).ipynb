{
 "cells": [
  {
   "cell_type": "markdown",
   "id": "7afa5c59",
   "metadata": {},
   "source": [
    "## 5-01-22"
   ]
  },
  {
   "cell_type": "code",
   "execution_count": 1,
   "id": "bcbae24c",
   "metadata": {},
   "outputs": [
    {
     "data": {
      "text/plain": [
       "34"
      ]
     },
     "execution_count": 1,
     "metadata": {},
     "output_type": "execute_result"
    }
   ],
   "source": [
    "a=int(input())\n",
    "b=int(input())\n",
    "s=0\n",
    "s=a+b\n",
    "s"
   ]
  },
  {
   "cell_type": "code",
   "execution_count": 7,
   "id": "ad507716",
   "metadata": {},
   "outputs": [
    {
     "name": "stdout",
     "output_type": "stream",
     "text": [
      "11\n",
      "7\n"
     ]
    },
    {
     "data": {
      "text/plain": [
       "4"
      ]
     },
     "execution_count": 7,
     "metadata": {},
     "output_type": "execute_result"
    }
   ],
   "source": [
    "a=int(input())\n",
    "b=int(input())\n",
    "d=a-b\n",
    "d"
   ]
  },
  {
   "cell_type": "code",
   "execution_count": 8,
   "id": "0b4387d5",
   "metadata": {},
   "outputs": [
    {
     "name": "stdout",
     "output_type": "stream",
     "text": [
      "56\n",
      "7\n"
     ]
    },
    {
     "data": {
      "text/plain": [
       "392"
      ]
     },
     "execution_count": 8,
     "metadata": {},
     "output_type": "execute_result"
    }
   ],
   "source": [
    "a=int(input())\n",
    "b=int(input())\n",
    "p=a*b\n",
    "p"
   ]
  },
  {
   "cell_type": "code",
   "execution_count": 6,
   "id": "eff1b04c",
   "metadata": {},
   "outputs": [
    {
     "name": "stdout",
     "output_type": "stream",
     "text": [
      "56\n",
      "0\n",
      "Division not possible by 0\n"
     ]
    }
   ],
   "source": [
    "a=int(input())\n",
    "b=int(input())\n",
    "if b==0:\n",
    "    print(\"Division not possible by 0\")\n",
    "elif a%b==0:\n",
    "    print(\"Quotient\",a//b)\n",
    "else:\n",
    "    print(\"Not divisible\")"
   ]
  },
  {
   "cell_type": "code",
   "execution_count": 11,
   "id": "c7dab291",
   "metadata": {},
   "outputs": [
    {
     "name": "stdout",
     "output_type": "stream",
     "text": [
      "59\n",
      "59 * 1 = 59\n",
      "59 * 2 = 118\n",
      "59 * 3 = 177\n",
      "59 * 4 = 236\n",
      "59 * 5 = 295\n",
      "59 * 6 = 354\n",
      "59 * 7 = 413\n",
      "59 * 8 = 472\n",
      "59 * 9 = 531\n",
      "59 * 10 = 590\n"
     ]
    }
   ],
   "source": [
    "a=int(input())\n",
    "for i in range(1,11):\n",
    "    print(a,\"*\",i,\"=\",a*i)"
   ]
  },
  {
   "cell_type": "markdown",
   "id": "5b7ea2a6",
   "metadata": {},
   "source": [
    "# 11-01-23"
   ]
  },
  {
   "cell_type": "markdown",
   "id": "c584565a",
   "metadata": {},
   "source": [
    "## System of linear equations"
   ]
  },
  {
   "cell_type": "markdown",
   "id": "5b413144",
   "metadata": {},
   "source": [
    "1) 4x+3y=20, -5x+9y=26\n"
   ]
  },
  {
   "cell_type": "code",
   "execution_count": 2,
   "id": "282aba31",
   "metadata": {
    "scrolled": false
   },
   "outputs": [
    {
     "name": "stdout",
     "output_type": "stream",
     "text": [
      "[[2.]\n",
      " [4.]]\n"
     ]
    }
   ],
   "source": [
    "import numpy as np\n",
    "A=[[4,3],[-5,9]]\n",
    "B=[[20],[26]]\n",
    "X=np.linalg.solve(A,B)\n",
    "print(X)"
   ]
  },
  {
   "cell_type": "markdown",
   "id": "e4737e05",
   "metadata": {},
   "source": [
    "2) 2x-3y+5z=11,5x+2y-7z=-12,-4x+3y+z=5"
   ]
  },
  {
   "cell_type": "code",
   "execution_count": 3,
   "id": "3882b29a",
   "metadata": {},
   "outputs": [
    {
     "name": "stdout",
     "output_type": "stream",
     "text": [
      "[[1.]\n",
      " [2.]\n",
      " [3.]]\n"
     ]
    }
   ],
   "source": [
    "import numpy as np\n",
    "A=[[2,-3,5],[5,2,-7],[-4,3,1]]\n",
    "B=[[11],[-12],[5]]\n",
    "X=np.linalg.solve(A,B)\n",
    "print(X)"
   ]
  },
  {
   "cell_type": "code",
   "execution_count": 12,
   "id": "b1e12137",
   "metadata": {},
   "outputs": [
    {
     "data": {
      "image/png": "[encoded data removed]",
      "text/plain": [
       "<Figure size 432x288 with 1 Axes>"
      ]
     },
     "metadata": {
      "needs_background": "light"
     },
     "output_type": "display_data"
    }
   ],
   "source": [
    "import matplotlib.pyplot as plt\n",
    "from numpy import*\n",
    "from cmath import *\n",
    "from sympy import *\n",
    "x=Symbol('x')\n",
    "x = np.linspace(0,3, 100) #linspace - number of points\n",
    "plt.plot(x, x**2)\n",
    "plt.show()\n"
   ]
  },
  {
   "cell_type": "code",
   "execution_count": 24,
   "id": "682f654f",
   "metadata": {},
   "outputs": [
    {
     "data": {
      "image/png": "[encoded data removed]",
      "text/plain": [
       "<Figure size 432x288 with 1 Axes>"
      ]
     },
     "metadata": {
      "needs_background": "light"
     },
     "output_type": "display_data"
    }
   ],
   "source": [
    "\n",
    "import numpy as np\n",
    "x = np.linspace(0,4*np.pi)   # start,stop,step\n",
    "z = np.cos(x)\n",
    "plt.plot(z)\n",
    "plt.show()"
   ]
  },
  {
   "cell_type": "code",
   "execution_count": 40,
   "id": "c42efb0b",
   "metadata": {},
   "outputs": [
    {
     "data": {
      "image/png": "[encoded data removed]",
      "text/plain": [
       "<Figure size 432x288 with 1 Axes>"
      ]
     },
     "metadata": {
      "needs_background": "light"
     },
     "output_type": "display_data"
    }
   ],
   "source": [
    "import matplotlib.pyplot as plt\n",
    "import numpy as np\n",
    "from cmath import *\n",
    "from sympy import *\n",
    "x=Symbol('x')\n",
    "x = np.linspace(0,2) #linspace - number of points\n",
    "y = np.linspace(0,2*np.pi)   # start,stop,step\n",
    "z = np.cos(y)\n",
    "plt.plot(x,x**2,z)\n",
    "plt.show()"
   ]
  },
  {
   "cell_type": "code",
   "execution_count": 47,
   "id": "e0b6a178",
   "metadata": {
    "scrolled": true
   },
   "outputs": [
    {
     "data": {
      "text/plain": [
       "Text(0, 0.5, 'Y')"
      ]
     },
     "execution_count": 47,
     "metadata": {},
     "output_type": "execute_result"
    },
    {
     "data": {
      "image/png": "[encoded data removed]",
      "text/plain": [
       "<Figure size 432x288 with 1 Axes>"
      ]
     },
     "metadata": {
      "needs_background": "light"
     },
     "output_type": "display_data"
    }
   ],
   "source": [
    "x=linspace(-2,2,100)\n",
    "y=x**2\n",
    "y1=np.cos(x)\n",
    "plt.plot(x,y)\n",
    "plt.plot(x,y1)\n",
    "plt.xlabel('X')\n",
    "plt.ylabel('Y')\n"
   ]
  },
  {
   "cell_type": "code",
   "execution_count": 48,
   "id": "2b50a651",
   "metadata": {
    "scrolled": true
   },
   "outputs": [
    {
     "data": {
      "image/png": "[encoded data removed]",
      "text/plain": [
       "<Figure size 432x288 with 2 Axes>"
      ]
     },
     "metadata": {
      "needs_background": "light"
     },
     "output_type": "display_data"
    }
   ],
   "source": [
    "import numpy as np\n",
    "import matplotlib.pyplot as plt\n",
    "a = np.arange(0, 10, 0.1)\n",
    "b = np.sin(a)\n",
    "c = np.arange(0, 10, 0.1)\n",
    "d = np.cos(a)\n",
    "plt.subplot(1, 2, 1)\n",
    "plt.plot(a,b, label = \"sin function\")\n",
    "plt.title('Plot 1')\n",
    "plt.legend(loc = 1)\n",
    "plt.subplot(1, 2, 2)\n",
    "plt.plot(c,d, label = \"cos function\" , c = 'red')\n",
    "plt.title ('Plot 2')\n",
    "plt.legend (loc = 1)\n",
    "plt.show()\n"
   ]
  },
  {
   "cell_type": "markdown",
   "id": "5662fd22",
   "metadata": {},
   "source": [
    "# 12-01-23"
   ]
  },
  {
   "cell_type": "markdown",
   "id": "4f0f21cb",
   "metadata": {},
   "source": [
    "## Asynchronous Assignment"
   ]
  },
  {
   "cell_type": "markdown",
   "id": "837aa41e",
   "metadata": {},
   "source": [
    "1. Write a python program to multiply two matrices entered by the user."
   ]
  },
  {
   "cell_type": "code",
   "execution_count": 22,
   "id": "9cfd3586",
   "metadata": {},
   "outputs": [
    {
     "name": "stdout",
     "output_type": "stream",
     "text": [
      "Enter 9 Elements for First Matrix: \n",
      "1\n",
      "2\n",
      "3\n",
      "4\n",
      "5\n",
      "6\n",
      "7\n",
      "8\n",
      "9\n",
      "Enter 9 Elements for Second Matrix: \n",
      "9\n",
      "8\n",
      "7\n",
      "6\n",
      "5\n",
      "4\n",
      "3\n",
      "2\n",
      "1\n",
      "Matrix A: \n",
      "1 2 3 \n",
      "4 5 6 \n",
      "7 8 9 \n",
      "Matrix B: \n",
      "9 8 7 \n",
      "6 5 4 \n",
      "3 2 1 \n",
      "Matrix C: \n",
      "30 24 18 \n",
      "84 69 54 \n",
      "138 114 90 \n"
     ]
    }
   ],
   "source": [
    "import numpy as np\n",
    "\n",
    "A = []\n",
    "print(\"Enter 9 Elements for First Matrix: \")\n",
    "for i in range(3):\n",
    "    A.append([])\n",
    "    for j in range(3):\n",
    "        num = int(input())\n",
    "        A[i].append(num)\n",
    "\n",
    "B = []\n",
    "print(\"Enter 9 Elements for Second Matrix: \")\n",
    "for i in range(3):\n",
    "    B.append([])\n",
    "    for j in range(3):\n",
    "        num = int(input())\n",
    "        B[i].append(num)\n",
    "print(\"Matrix A: \")\n",
    "for i in range(3):\n",
    "    for j in range(3):\n",
    "        print(A[i][j], end=\" \")\n",
    "    print()\n",
    "\n",
    "print(\"Matrix B: \")\n",
    "for i in range(3):\n",
    "    for j in range(3):\n",
    "        print(B[i][j], end=\" \")\n",
    "    print()\n",
    "\n",
    "C=np.matmul(A,B)\n",
    "print(\"Matrix C: \")\n",
    "for i in range(3):\n",
    "    for j in range(3):\n",
    "        print(C[i][j], end=\" \")\n",
    "    print()\n"
   ]
  },
  {
   "cell_type": "markdown",
   "id": "1ed92b01",
   "metadata": {},
   "source": [
    "2. Solve the following initial value problems and plot the graph:\n",
    "(a) dy\n",
    "/dx = −6xy; y(0) = 3"
   ]
  },
  {
   "cell_type": "code",
   "execution_count": 24,
   "id": "6e208773",
   "metadata": {},
   "outputs": [
    {
     "data": {
      "image/png": "[encoded data removed]",
      "text/plain": [
       "<Figure size 432x288 with 1 Axes>"
      ]
     },
     "metadata": {
      "needs_background": "light"
     },
     "output_type": "display_data"
    },
    {
     "data": {
      "image/png": "[encoded data removed]",
      "text/plain": [
       "<Figure size 432x288 with 1 Axes>"
      ]
     },
     "metadata": {
      "needs_background": "light"
     },
     "output_type": "display_data"
    }
   ],
   "source": [
    "import numpy as np\n",
    "from scipy.integrate import odeint\n",
    "import matplotlib.pyplot as plt\n",
    "def model(y,t):\n",
    "    dydt = -6*t*y/2\n",
    "    return dydt\n",
    "y0 = 3\n",
    "t = np.linspace(0,20)\n",
    "y1 = odeint(model,y0,t)\n",
    "plt.plot(t,y1,'r-',linewidth=2)\n",
    "plt.xlabel('time')\n",
    "plt.ylabel('y(t)')\n",
    "plt.show()\n",
    "#(ii)\n",
    "from scipy.integrate import odeint\n",
    "import matplotlib.pyplot as plt\n",
    "def model(y,t,k):\n",
    "    dydt = k+ y/2\n",
    "    return dydt\n",
    "y0 = 1\n",
    "t = np.linspace(0,20)\n",
    "k = 0.5\n",
    "y1 = odeint(model,y0,t,args=(k,))\n",
    "k = 2\n",
    "y2 = odeint(model,y0,t,args=(k,))\n",
    "k = 4\n",
    "y3 = odeint(model,y0,t,args=(k,))\n",
    "plt.plot(t,y1,'r-',linewidth=2,label='k=0.5')\n",
    "plt.plot(t,y2,'b--',linewidth=2,label='k=2.0')\n",
    "plt.plot(t,y3,'g:',linewidth=2,label='k=4.0')\n",
    "plt.xlabel('time')\n",
    "plt.ylabel('y(t)')\n",
    "plt.legend()\n",
    "plt.show()\n",
    "\n"
   ]
  },
  {
   "cell_type": "markdown",
   "id": "6960836a",
   "metadata": {},
   "source": [
    "3. Plot the graphs of the equations y = sin(x) , y = sin(x^2), y = cos(x) any = cos(x^2) as subplots.\n"
   ]
  },
  {
   "cell_type": "code",
   "execution_count": 7,
   "id": "d8dcef8b",
   "metadata": {},
   "outputs": [
    {
     "data": {
      "image/png": "[encoded data removed]",
      "text/plain": [
       "<Figure size 720x720 with 4 Axes>"
      ]
     },
     "metadata": {
      "needs_background": "light"
     },
     "output_type": "display_data"
    }
   ],
   "source": [
    "import numpy as np\n",
    "import matplotlib.pyplot as plt\n",
    "\n",
    "# create the x values from 0 to 10 with 1000 points\n",
    "x = np.linspace(0, 10, 1000)\n",
    "\n",
    "# create the y values for each equation\n",
    "y1 = np.sin(x)\n",
    "y2 = np.sin(x**2)\n",
    "y3 = np.cos(x)\n",
    "y4 = np.cos(x**2)\n",
    "\n",
    "# create the subplots\n",
    "fig, axs = plt.subplots(2, 2, figsize=(10, 10))\n",
    "\n",
    "# plot the first equation in the first subplot\n",
    "axs[0, 0].plot(x, y1, 'r')\n",
    "axs[0, 0].set_title(\"y = sin(x)\")\n",
    "\n",
    "# plot the second equation in the second subplot\n",
    "axs[0, 1].plot(x, y2, 'b')\n",
    "axs[0, 1].set_title(\"y = sin(x^2)\")\n",
    "\n",
    "# plot the third equation in the third subplot\n",
    "axs[1, 0].plot(x, y3, 'g')\n",
    "axs[1, 0].set_title(\"y = cos(x)\")\n",
    "\n",
    "# plot the fourth equation in the fourth subplot\n",
    "axs[1, 1].plot(x, y4, 'purple')\n",
    "axs[1, 1].set_title(\"y = cos(x^2)\")\n",
    "\n",
    "# show the plot\n",
    "plt.show()"
   ]
  },
  {
   "cell_type": "markdown",
   "id": "688e234b",
   "metadata": {},
   "source": [
    "4. The sum of the digits of a three digit number is 16. The unit digit is two more than the sum of the other two digits. And the tens digit is five more than the hundreds digit. What is the number?"
   ]
  },
  {
   "cell_type": "code",
   "execution_count": 20,
   "id": "97bd8457",
   "metadata": {},
   "outputs": [
    {
     "name": "stdout",
     "output_type": "stream",
     "text": [
      "169\n"
     ]
    }
   ],
   "source": [
    "number=0\n",
    "for i in range(1, 10):\n",
    "    for j in range(1, 10):\n",
    "        for k in range(1, 10):\n",
    "            # check if the conditions are satisfied\n",
    "            if i + j + k == 16 and k == i+j + 2 and j == i + 5:\n",
    "                # construct the number from the digits and print it\n",
    "                number = int(str(i) + str(j) + str(k))\n",
    "print(number)"
   ]
  },
  {
   "cell_type": "markdown",
   "id": "7fe968c5",
   "metadata": {},
   "source": [
    "# 18-01-23"
   ]
  },
  {
   "cell_type": "code",
   "execution_count": 12,
   "id": "bbbf0a99",
   "metadata": {},
   "outputs": [
    {
     "name": "stdout",
     "output_type": "stream",
     "text": [
      "Requirement already satisfied: turtle in c:\\users\\hp\\anaconda3\\lib\\site-packages (0.0.1)\n",
      "Requirement already satisfied: PyYAML>=3.08 in c:\\users\\hp\\anaconda3\\lib\\site-packages (from turtle) (5.4.1)\n"
     ]
    }
   ],
   "source": [
    "!pip install turtle"
   ]
  },
  {
   "cell_type": "code",
   "execution_count": 13,
   "id": "719c98e0",
   "metadata": {},
   "outputs": [],
   "source": [
    "import turtle\n",
    "t = turtle.Turtle()\n",
    "r = 50\n",
    "t.circle(r)"
   ]
  },
  {
   "cell_type": "code",
   "execution_count": 12,
   "id": "36daf416",
   "metadata": {
    "scrolled": false
   },
   "outputs": [
    {
     "data": {
      "text/plain": [
       "[]"
      ]
     },
     "execution_count": 12,
     "metadata": {},
     "output_type": "execute_result"
    },
    {
     "data": {
      "image/png": "[encoded data removed]",
      "text/plain": [
       "<Figure size 504x252 with 1 Axes>"
      ]
     },
     "metadata": {
      "needs_background": "light"
     },
     "output_type": "display_data"
    }
   ],
   "source": [
    "import matplotlib.pyplot as plt\n",
    "from sympy import *\n",
    "import numpy as np\n",
    "t=np.linspace(0,2*np.pi,100)\n",
    "r=2\n",
    "x=r*np.cos(t)\n",
    "y=r*np.sin(t)\n",
    "figure,axes=plt.subplots(1)\n",
    "axes.plot(x,y)\n",
    "axes.set_aspect(1)\n",
    "plt.plot()\n"
   ]
  },
  {
   "cell_type": "code",
   "execution_count": 15,
   "id": "8bb0991a",
   "metadata": {},
   "outputs": [
    {
     "name": "stdout",
     "output_type": "stream",
     "text": [
      "Collecting vpython\n",
      "  Downloading vpython-7.6.4-cp38-cp38-win_amd64.whl (3.5 MB)\n",
      "Requirement already satisfied: ipykernel in c:\\users\\hp\\anaconda3\\lib\\site-packages (from vpython) (5.3.4)\n",
      "Requirement already satisfied: numpy in c:\\users\\hp\\anaconda3\\lib\\site-packages (from vpython) (1.20.1)\n",
      "Collecting autobahn<27,>=22.6.1\n",
      "  Downloading autobahn-23.1.1.tar.gz (479 kB)\n",
      "Requirement already satisfied: jupyter in c:\\users\\hp\\anaconda3\\lib\\site-packages (from vpython) (1.0.0)\n",
      "Collecting jupyter-server-proxy\n",
      "  Downloading jupyter_server_proxy-3.2.2-py3-none-any.whl (36 kB)\n",
      "Collecting txaio>=21.2.1\n",
      "  Downloading txaio-23.1.1-py2.py3-none-any.whl (30 kB)\n",
      "Requirement already satisfied: cryptography>=3.4.6 in c:\\users\\hp\\anaconda3\\lib\\site-packages (from autobahn<27,>=22.6.1->vpython) (3.4.7)\n",
      "Collecting hyperlink>=21.0.0\n",
      "  Downloading hyperlink-21.0.0-py2.py3-none-any.whl (74 kB)\n",
      "Requirement already satisfied: setuptools in c:\\users\\hp\\anaconda3\\lib\\site-packages (from autobahn<27,>=22.6.1->vpython) (52.0.0.post20210125)\n",
      "Requirement already satisfied: cffi>=1.12 in c:\\users\\hp\\anaconda3\\lib\\site-packages (from cryptography>=3.4.6->autobahn<27,>=22.6.1->vpython) (1.14.5)\n",
      "Requirement already satisfied: pycparser in c:\\users\\hp\\anaconda3\\lib\\site-packages (from cffi>=1.12->cryptography>=3.4.6->autobahn<27,>=22.6.1->vpython) (2.20)\n",
      "Requirement already satisfied: idna>=2.5 in c:\\users\\hp\\anaconda3\\lib\\site-packages (from hyperlink>=21.0.0->autobahn<27,>=22.6.1->vpython) (2.10)\n",
      "Requirement already satisfied: traitlets>=4.1.0 in c:\\users\\hp\\anaconda3\\lib\\site-packages (from ipykernel->vpython) (5.0.5)\n",
      "Requirement already satisfied: tornado>=4.2 in c:\\users\\hp\\anaconda3\\lib\\site-packages (from ipykernel->vpython) (6.1)\n",
      "Requirement already satisfied: ipython>=5.0.0 in c:\\users\\hp\\anaconda3\\lib\\site-packages (from ipykernel->vpython) (7.22.0)\n",
      "Requirement already satisfied: jupyter-client in c:\\users\\hp\\anaconda3\\lib\\site-packages (from ipykernel->vpython) (6.1.12)\n",
      "Requirement already satisfied: backcall in c:\\users\\hp\\anaconda3\\lib\\site-packages (from ipython>=5.0.0->ipykernel->vpython) (0.2.0)\n",
      "Requirement already satisfied: decorator in c:\\users\\hp\\anaconda3\\lib\\site-packages (from ipython>=5.0.0->ipykernel->vpython) (5.0.6)\n",
      "Requirement already satisfied: colorama in c:\\users\\hp\\anaconda3\\lib\\site-packages (from ipython>=5.0.0->ipykernel->vpython) (0.4.4)\n",
      "Requirement already satisfied: pickleshare in c:\\users\\hp\\anaconda3\\lib\\site-packages (from ipython>=5.0.0->ipykernel->vpython) (0.7.5)\n",
      "Requirement already satisfied: jedi>=0.16 in c:\\users\\hp\\anaconda3\\lib\\site-packages (from ipython>=5.0.0->ipykernel->vpython) (0.17.2)\n",
      "Requirement already satisfied: prompt-toolkit!=3.0.0,!=3.0.1,<3.1.0,>=2.0.0 in c:\\users\\hp\\anaconda3\\lib\\site-packages (from ipython>=5.0.0->ipykernel->vpython) (3.0.17)\n",
      "Requirement already satisfied: pygments in c:\\users\\hp\\anaconda3\\lib\\site-packages (from ipython>=5.0.0->ipykernel->vpython) (2.8.1)\n",
      "Requirement already satisfied: parso<0.8.0,>=0.7.0 in c:\\users\\hp\\anaconda3\\lib\\site-packages (from jedi>=0.16->ipython>=5.0.0->ipykernel->vpython) (0.7.0)\n",
      "Requirement already satisfied: wcwidth in c:\\users\\hp\\anaconda3\\lib\\site-packages (from prompt-toolkit!=3.0.0,!=3.0.1,<3.1.0,>=2.0.0->ipython>=5.0.0->ipykernel->vpython) (0.2.5)\n",
      "Requirement already satisfied: ipython-genutils in c:\\users\\hp\\anaconda3\\lib\\site-packages (from traitlets>=4.1.0->ipykernel->vpython) (0.2.0)\n",
      "Requirement already satisfied: ipywidgets in c:\\users\\hp\\anaconda3\\lib\\site-packages (from jupyter->vpython) (7.6.3)\n",
      "Requirement already satisfied: nbconvert in c:\\users\\hp\\anaconda3\\lib\\site-packages (from jupyter->vpython) (6.0.7)\n",
      "Requirement already satisfied: jupyter-console in c:\\users\\hp\\anaconda3\\lib\\site-packages (from jupyter->vpython) (6.4.0)\n",
      "Requirement already satisfied: qtconsole in c:\\users\\hp\\anaconda3\\lib\\site-packages (from jupyter->vpython) (5.0.3)\n",
      "Requirement already satisfied: notebook in c:\\users\\hp\\anaconda3\\lib\\site-packages (from jupyter->vpython) (6.3.0)\n",
      "Requirement already satisfied: jupyterlab-widgets>=1.0.0 in c:\\users\\hp\\anaconda3\\lib\\site-packages (from ipywidgets->jupyter->vpython) (1.0.0)\n",
      "Requirement already satisfied: widgetsnbextension~=3.5.0 in c:\\users\\hp\\anaconda3\\lib\\site-packages (from ipywidgets->jupyter->vpython) (3.5.1)\n",
      "Requirement already satisfied: nbformat>=4.2.0 in c:\\users\\hp\\anaconda3\\lib\\site-packages (from ipywidgets->jupyter->vpython) (5.1.3)\n",
      "Requirement already satisfied: jupyter-core in c:\\users\\hp\\anaconda3\\lib\\site-packages (from nbformat>=4.2.0->ipywidgets->jupyter->vpython) (4.7.1)\n",
      "Requirement already satisfied: jsonschema!=2.5.0,>=2.4 in c:\\users\\hp\\anaconda3\\lib\\site-packages (from nbformat>=4.2.0->ipywidgets->jupyter->vpython) (3.2.0)\n",
      "Requirement already satisfied: six>=1.11.0 in c:\\users\\hp\\anaconda3\\lib\\site-packages (from jsonschema!=2.5.0,>=2.4->nbformat>=4.2.0->ipywidgets->jupyter->vpython) (1.15.0)\n",
      "Requirement already satisfied: attrs>=17.4.0 in c:\\users\\hp\\anaconda3\\lib\\site-packages (from jsonschema!=2.5.0,>=2.4->nbformat>=4.2.0->ipywidgets->jupyter->vpython) (20.3.0)\n",
      "Requirement already satisfied: pyrsistent>=0.14.0 in c:\\users\\hp\\anaconda3\\lib\\site-packages (from jsonschema!=2.5.0,>=2.4->nbformat>=4.2.0->ipywidgets->jupyter->vpython) (0.17.3)\n",
      "Requirement already satisfied: prometheus-client in c:\\users\\hp\\anaconda3\\lib\\site-packages (from notebook->jupyter->vpython) (0.10.1)\n",
      "Requirement already satisfied: argon2-cffi in c:\\users\\hp\\anaconda3\\lib\\site-packages (from notebook->jupyter->vpython) (20.1.0)\n",
      "Requirement already satisfied: pyzmq>=17 in c:\\users\\hp\\anaconda3\\lib\\site-packages (from notebook->jupyter->vpython) (20.0.0)\n",
      "Requirement already satisfied: jinja2 in c:\\users\\hp\\anaconda3\\lib\\site-packages (from notebook->jupyter->vpython) (2.11.3)\n",
      "Requirement already satisfied: terminado>=0.8.3 in c:\\users\\hp\\anaconda3\\lib\\site-packages (from notebook->jupyter->vpython) (0.9.4)\n",
      "Requirement already satisfied: Send2Trash>=1.5.0 in c:\\users\\hp\\anaconda3\\lib\\site-packages (from notebook->jupyter->vpython) (1.5.0)\n",
      "Requirement already satisfied: python-dateutil>=2.1 in c:\\users\\hp\\anaconda3\\lib\\site-packages (from jupyter-client->ipykernel->vpython) (2.8.1)\n",
      "Requirement already satisfied: pywin32>=1.0 in c:\\users\\hp\\anaconda3\\lib\\site-packages (from jupyter-core->nbformat>=4.2.0->ipywidgets->jupyter->vpython) (227)\n",
      "Requirement already satisfied: pywinpty>=0.5 in c:\\users\\hp\\anaconda3\\lib\\site-packages (from terminado>=0.8.3->notebook->jupyter->vpython) (0.5.7)\n",
      "Requirement already satisfied: MarkupSafe>=0.23 in c:\\users\\hp\\anaconda3\\lib\\site-packages (from jinja2->notebook->jupyter->vpython) (1.1.1)\n",
      "Requirement already satisfied: jupyter-server>=1.0 in c:\\users\\hp\\anaconda3\\lib\\site-packages (from jupyter-server-proxy->vpython) (1.4.1)\n",
      "Collecting aiohttp\n",
      "  Downloading aiohttp-3.8.3-cp38-cp38-win_amd64.whl (324 kB)\n",
      "Collecting simpervisor>=0.4\n",
      "  Downloading simpervisor-0.4-py3-none-any.whl (5.7 kB)\n",
      "Requirement already satisfied: anyio>=2.0.2 in c:\\users\\hp\\anaconda3\\lib\\site-packages (from jupyter-server>=1.0->jupyter-server-proxy->vpython) (2.2.0)\n",
      "Requirement already satisfied: sniffio>=1.1 in c:\\users\\hp\\anaconda3\\lib\\site-packages (from anyio>=2.0.2->jupyter-server>=1.0->jupyter-server-proxy->vpython) (1.2.0)\n",
      "Collecting yarl<2.0,>=1.0\n",
      "  Downloading yarl-1.8.2-cp38-cp38-win_amd64.whl (56 kB)\n",
      "Collecting multidict<7.0,>=4.5\n",
      "  Downloading multidict-6.0.4-cp38-cp38-win_amd64.whl (28 kB)\n",
      "Collecting frozenlist>=1.1.1\n",
      "  Downloading frozenlist-1.3.3-cp38-cp38-win_amd64.whl (34 kB)\n",
      "Collecting aiosignal>=1.1.2\n",
      "  Downloading aiosignal-1.3.1-py3-none-any.whl (7.6 kB)\n",
      "Collecting async-timeout<5.0,>=4.0.0a3\n",
      "  Downloading async_timeout-4.0.2-py3-none-any.whl (5.8 kB)\n",
      "Collecting charset-normalizer<3.0,>=2.0\n",
      "  Downloading charset_normalizer-2.1.1-py3-none-any.whl (39 kB)\n",
      "Requirement already satisfied: testpath in c:\\users\\hp\\anaconda3\\lib\\site-packages (from nbconvert->jupyter->vpython) (0.4.4)\n",
      "Requirement already satisfied: nbclient<0.6.0,>=0.5.0 in c:\\users\\hp\\anaconda3\\lib\\site-packages (from nbconvert->jupyter->vpython) (0.5.3)\n",
      "Requirement already satisfied: jupyterlab-pygments in c:\\users\\hp\\anaconda3\\lib\\site-packages (from nbconvert->jupyter->vpython) (0.1.2)\n",
      "Requirement already satisfied: pandocfilters>=1.4.1 in c:\\users\\hp\\anaconda3\\lib\\site-packages (from nbconvert->jupyter->vpython) (1.4.3)\n",
      "Requirement already satisfied: bleach in c:\\users\\hp\\anaconda3\\lib\\site-packages (from nbconvert->jupyter->vpython) (3.3.0)\n",
      "Requirement already satisfied: defusedxml in c:\\users\\hp\\anaconda3\\lib\\site-packages (from nbconvert->jupyter->vpython) (0.7.1)\n",
      "Requirement already satisfied: mistune<2,>=0.8.1 in c:\\users\\hp\\anaconda3\\lib\\site-packages (from nbconvert->jupyter->vpython) (0.8.4)\n",
      "Requirement already satisfied: entrypoints>=0.2.2 in c:\\users\\hp\\anaconda3\\lib\\site-packages (from nbconvert->jupyter->vpython) (0.3)\n",
      "Requirement already satisfied: async-generator in c:\\users\\hp\\anaconda3\\lib\\site-packages (from nbclient<0.6.0,>=0.5.0->nbconvert->jupyter->vpython) (1.10)\n",
      "Requirement already satisfied: nest-asyncio in c:\\users\\hp\\anaconda3\\lib\\site-packages (from nbclient<0.6.0,>=0.5.0->nbconvert->jupyter->vpython) (1.5.1)\n",
      "Requirement already satisfied: packaging in c:\\users\\hp\\anaconda3\\lib\\site-packages (from bleach->nbconvert->jupyter->vpython) (20.9)\n",
      "Requirement already satisfied: webencodings in c:\\users\\hp\\anaconda3\\lib\\site-packages (from bleach->nbconvert->jupyter->vpython) (0.5.1)\n",
      "Requirement already satisfied: pyparsing>=2.0.2 in c:\\users\\hp\\anaconda3\\lib\\site-packages (from packaging->bleach->nbconvert->jupyter->vpython) (2.4.7)\n",
      "Requirement already satisfied: qtpy in c:\\users\\hp\\anaconda3\\lib\\site-packages (from qtconsole->jupyter->vpython) (1.9.0)\n",
      "Building wheels for collected packages: autobahn\n",
      "  Building wheel for autobahn (setup.py): started\n",
      "  Building wheel for autobahn (setup.py): finished with status 'done'\n",
      "  Created wheel for autobahn: filename=autobahn-23.1.1-cp38-cp38-win_amd64.whl size=666282 sha256=13528d3e93dcc440045788a2d8db0703ee19d97d883ce77f311d10b211ceeee6\n",
      "  Stored in directory: c:\\users\\hp\\appdata\\local\\pip\\cache\\wheels\\1a\\ba\\88\\38c821528e8a91a4b7b50125cd1fcb2ce6d6035c5b2160c27a\n",
      "Successfully built autobahn\n",
      "Installing collected packages: multidict, frozenlist, yarl, charset-normalizer, async-timeout, aiosignal, txaio, simpervisor, hyperlink, aiohttp, jupyter-server-proxy, autobahn, vpython\n",
      "Successfully installed aiohttp-3.8.3 aiosignal-1.3.1 async-timeout-4.0.2 autobahn-23.1.1 charset-normalizer-2.1.1 frozenlist-1.3.3 hyperlink-21.0.0 jupyter-server-proxy-3.2.2 multidict-6.0.4 simpervisor-0.4 txaio-23.1.1 vpython-7.6.4 yarl-1.8.2\n"
     ]
    },
    {
     "data": {
      "text/html": [
       "<div id=\"glowscript\" class=\"glowscript\"></div>"
      ],
      "text/plain": [
       "<IPython.core.display.HTML object>"
      ]
     },
     "metadata": {},
     "output_type": "display_data"
    },
    {
     "data": {
      "application/javascript": "if (typeof Jupyter !== \"undefined\") { window.__context = { glowscript_container: $(\"#glowscript\").removeAttr(\"id\")};}else{ element.textContent = ' ';}",
      "text/plain": [
       "<IPython.core.display.Javascript object>"
      ]
     },
     "metadata": {},
     "output_type": "display_data"
    },
    {
     "data": {
      "application/javascript": "if (typeof Jupyter !== \"undefined\") {require.undef(\"nbextensions/vpython_libraries/glow.min\");}else{element.textContent = ' ';}",
      "text/plain": [
       "<IPython.core.display.Javascript object>"
      ]
     },
     "metadata": {},
     "output_type": "display_data"
    },
    {
     "data": {
      "application/javascript": "if (typeof Jupyter !== \"undefined\") {require.undef(\"nbextensions/vpython_libraries/glowcomm\");}else{element.textContent = ' ';}",
      "text/plain": [
       "<IPython.core.display.Javascript object>"
      ]
     },
     "metadata": {},
     "output_type": "display_data"
    },
    {
     "data": {
      "application/javascript": "if (typeof Jupyter !== \"undefined\") {require.undef(\"nbextensions/vpython_libraries/jquery-ui.custom.min\");}else{element.textContent = ' ';}",
      "text/plain": [
       "<IPython.core.display.Javascript object>"
      ]
     },
     "metadata": {},
     "output_type": "display_data"
    },
    {
     "data": {
      "application/javascript": "if (typeof Jupyter !== \"undefined\") {require([\"nbextensions/vpython_libraries/glow.min\"], function(){console.log(\"GLOW LOADED\");});}else{element.textContent = ' ';}",
      "text/plain": [
       "<IPython.core.display.Javascript object>"
      ]
     },
     "metadata": {},
     "output_type": "display_data"
    },
    {
     "data": {
      "application/javascript": "if (typeof Jupyter !== \"undefined\") {require([\"nbextensions/vpython_libraries/glowcomm\"], function(){console.log(\"GLOWCOMM LOADED\");});}else{element.textContent = ' ';}",
      "text/plain": [
       "<IPython.core.display.Javascript object>"
      ]
     },
     "metadata": {},
     "output_type": "display_data"
    },
    {
     "data": {
      "application/javascript": "if (typeof Jupyter !== \"undefined\") {require([\"nbextensions/vpython_libraries/jquery-ui.custom.min\"], function(){console.log(\"JQUERY LOADED\");});}else{element.textContent = ' ';}",
      "text/plain": [
       "<IPython.core.display.Javascript object>"
      ]
     },
     "metadata": {},
     "output_type": "display_data"
    }
   ],
   "source": [
    "!pip install vpython\n"
   ]
  },
  {
   "cell_type": "code",
   "execution_count": 1,
   "id": "a6740869",
   "metadata": {},
   "outputs": [
    {
     "data": {
      "text/html": [
       "<div id=\"glowscript\" class=\"glowscript\"></div>"
      ],
      "text/plain": [
       "<IPython.core.display.HTML object>"
      ]
     },
     "metadata": {},
     "output_type": "display_data"
    },
    {
     "data": {
      "application/javascript": "if (typeof Jupyter !== \"undefined\") { window.__context = { glowscript_container: $(\"#glowscript\").removeAttr(\"id\")};}else{ element.textContent = ' ';}",
      "text/plain": [
       "<IPython.core.display.Javascript object>"
      ]
     },
     "metadata": {},
     "output_type": "display_data"
    },
    {
     "data": {
      "application/javascript": "if (typeof Jupyter !== \"undefined\") {require.undef(\"nbextensions/vpython_libraries/glow.min\");}else{element.textContent = ' ';}",
      "text/plain": [
       "<IPython.core.display.Javascript object>"
      ]
     },
     "metadata": {},
     "output_type": "display_data"
    },
    {
     "data": {
      "application/javascript": "if (typeof Jupyter !== \"undefined\") {require.undef(\"nbextensions/vpython_libraries/glowcomm\");}else{element.textContent = ' ';}",
      "text/plain": [
       "<IPython.core.display.Javascript object>"
      ]
     },
     "metadata": {},
     "output_type": "display_data"
    },
    {
     "data": {
      "application/javascript": "if (typeof Jupyter !== \"undefined\") {require.undef(\"nbextensions/vpython_libraries/jquery-ui.custom.min\");}else{element.textContent = ' ';}",
      "text/plain": [
       "<IPython.core.display.Javascript object>"
      ]
     },
     "metadata": {},
     "output_type": "display_data"
    },
    {
     "data": {
      "application/javascript": "if (typeof Jupyter !== \"undefined\") {require([\"nbextensions/vpython_libraries/glow.min\"], function(){console.log(\"GLOW LOADED\");});}else{element.textContent = ' ';}",
      "text/plain": [
       "<IPython.core.display.Javascript object>"
      ]
     },
     "metadata": {},
     "output_type": "display_data"
    },
    {
     "data": {
      "application/javascript": "if (typeof Jupyter !== \"undefined\") {require([\"nbextensions/vpython_libraries/glowcomm\"], function(){console.log(\"GLOWCOMM LOADED\");});}else{element.textContent = ' ';}",
      "text/plain": [
       "<IPython.core.display.Javascript object>"
      ]
     },
     "metadata": {},
     "output_type": "display_data"
    },
    {
     "data": {
      "application/javascript": "if (typeof Jupyter !== \"undefined\") {require([\"nbextensions/vpython_libraries/jquery-ui.custom.min\"], function(){console.log(\"JQUERY LOADED\");});}else{element.textContent = ' ';}",
      "text/plain": [
       "<IPython.core.display.Javascript object>"
      ]
     },
     "metadata": {},
     "output_type": "display_data"
    }
   ],
   "source": [
    "from vpython import * \n",
    "sphere()"
   ]
  },
  {
   "cell_type": "markdown",
   "id": "1d16b29f",
   "metadata": {},
   "source": [
    "# 19-01-23"
   ]
  },
  {
   "cell_type": "markdown",
   "id": "642f6df9",
   "metadata": {},
   "source": [
    "$  Sphere  $"
   ]
  },
  {
   "cell_type": "code",
   "execution_count": 35,
   "id": "8d7c0209",
   "metadata": {},
   "outputs": [
    {
     "data": {
      "image/png": "[encoded data removed]",
      "text/plain": [
       "<Figure size 432x288 with 1 Axes>"
      ]
     },
     "metadata": {
      "needs_background": "light"
     },
     "output_type": "display_data"
    }
   ],
   "source": [
    "import matplotlib.pyplot as plt\n",
    "from numpy import *\n",
    "r=0.1\n",
    "u,v=mgrid[0:2*pi:30j,0:pi:20j]\n",
    "x=r*cos(u)*sin(v)\n",
    "y=r*sin(u)*sin(v)\n",
    "z=r*cos(v)\n",
    "ax = plt.axes(projection='3d')\n",
    "0"
   ]
  },
  {
   "cell_type": "markdown",
   "id": "40eea31b",
   "metadata": {},
   "source": [
    "# 25-01-23"
   ]
  },
  {
   "cell_type": "markdown",
   "id": "27a6f40d",
   "metadata": {},
   "source": [
    "Solve the quadratic function ax+bx+c=0"
   ]
  },
  {
   "cell_type": "code",
   "execution_count": 2,
   "id": "58b42ade",
   "metadata": {},
   "outputs": [
    {
     "data": {
      "text/plain": [
       "[(-b + sqrt(-4*a*c + b**2))/(2*a), -(b + sqrt(-4*a*c + b**2))/(2*a)]"
      ]
     },
     "execution_count": 2,
     "metadata": {},
     "output_type": "execute_result"
    }
   ],
   "source": [
    "from sympy import *\n",
    "x=Symbol('x')\n",
    "a=Symbol('a')\n",
    "b=Symbol('b')\n",
    "c=Symbol('c')\n",
    "exp=a*x**2+b*x+c\n",
    "solve(exp,x)"
   ]
  },
  {
   "cell_type": "markdown",
   "id": "f22d1981",
   "metadata": {},
   "source": [
    "## Lambda function"
   ]
  },
  {
   "cell_type": "code",
   "execution_count": 3,
   "id": "423d80b8",
   "metadata": {},
   "outputs": [
    {
     "data": {
      "text/plain": [
       "6"
      ]
     },
     "execution_count": 3,
     "metadata": {},
     "output_type": "execute_result"
    }
   ],
   "source": [
    "from sympy import *\n",
    "f=lambda x: x**2+2\n",
    "f(2)"
   ]
  },
  {
   "cell_type": "code",
   "execution_count": 4,
   "id": "f24f2c76",
   "metadata": {},
   "outputs": [
    {
     "name": "stdout",
     "output_type": "stream",
     "text": [
      "4\n"
     ]
    }
   ],
   "source": [
    "min=lambda a,b: a if(a<b) else b\n",
    "print(min(5,4))"
   ]
  },
  {
   "cell_type": "code",
   "execution_count": 5,
   "id": "3b28203d",
   "metadata": {},
   "outputs": [
    {
     "name": "stdout",
     "output_type": "stream",
     "text": [
      "E + 4\n",
      "-2 + E\n"
     ]
    },
    {
     "data": {
      "text/latex": [
       "$\\displaystyle 3 + 3 e$"
      ],
      "text/plain": [
       "3 + 3*E"
      ]
     },
     "execution_count": 5,
     "metadata": {},
     "output_type": "execute_result"
    }
   ],
   "source": [
    "import numpy as np\n",
    "from sympy import *\n",
    "x=Symbol('x')\n",
    "f=lambda x: x**2+exp(x)\n",
    "g=lambda x: 2*x+1\n",
    "add=lambda x:f(x)+g(x)\n",
    "print(add(1))\n",
    "subtract=lambda x: f(x)-g(x)\n",
    "print(subtract(1))\n",
    "product=lambda x: f(x)*g(x)\n",
    "product(1)"
   ]
  },
  {
   "cell_type": "code",
   "execution_count": 6,
   "id": "b449f91b",
   "metadata": {},
   "outputs": [
    {
     "name": "stdout",
     "output_type": "stream",
     "text": [
      "Enter a functionx**2\n"
     ]
    },
    {
     "data": {
      "text/plain": [
       "25"
      ]
     },
     "execution_count": 6,
     "metadata": {},
     "output_type": "execute_result"
    }
   ],
   "source": [
    "import math\n",
    "import sympy\n",
    "x=Symbol('x')\n",
    "f= lambda x: eval(input(\"Enter a function\"))\n",
    "f(5)"
   ]
  },
  {
   "cell_type": "markdown",
   "id": "9210f957",
   "metadata": {},
   "source": [
    "Find the composite function f(g(y)) for various mathematical operations such as:"
   ]
  },
  {
   "cell_type": "markdown",
   "id": "95823a09",
   "metadata": {},
   "source": [
    "i) (f+g)(1)"
   ]
  },
  {
   "cell_type": "markdown",
   "id": "12253c1c",
   "metadata": {},
   "source": [
    "ii) (f-g)(1)\n"
   ]
  },
  {
   "cell_type": "markdown",
   "id": "39b9d862",
   "metadata": {},
   "source": [
    "iii) (f*g)(1)"
   ]
  },
  {
   "cell_type": "markdown",
   "id": "ab721361",
   "metadata": {},
   "source": [
    "iv) (f/g)(1)"
   ]
  },
  {
   "cell_type": "code",
   "execution_count": 7,
   "id": "08bc2b00",
   "metadata": {},
   "outputs": [
    {
     "ename": "SyntaxError",
     "evalue": "invalid syntax (<ipython-input-7-00c4e7931f12>, line 16)",
     "output_type": "error",
     "traceback": [
      "\u001b[1;36m  File \u001b[1;32m\"<ipython-input-7-00c4e7931f12>\"\u001b[1;36m, line \u001b[1;32m16\u001b[0m\n\u001b[1;33m    add comp=composite_function_add(f,g)\u001b[0m\n\u001b[1;37m        ^\u001b[0m\n\u001b[1;31mSyntaxError\u001b[0m\u001b[1;31m:\u001b[0m invalid syntax\n"
     ]
    }
   ],
   "source": [
    "import math\n",
    "def f(x):\n",
    "    func_fx=(math.exp(x))+(x**2)\n",
    "    return func_fx\n",
    "\n",
    "def g(y):\n",
    "    func_gy=(2*y)+1\n",
    "    return func_gy\n",
    "\n",
    "print(\"f(1)=\",f(1))\n",
    "print(\"g(1)=\",g(1))\n",
    "\n",
    "def composite_function_add(f,g):\n",
    "    return lambda x: (f(x)+g(x))\n",
    "\n",
    "add comp=composite_function_add(f,g)\n",
    "print(\"(f+g)(1)=\",add_comp(1))\n",
    "\n",
    "def composite_function_minus(f,g):\n",
    "    return lambda x: (f(x)-g(x))\n",
    "\n",
    "minus_comp=composite_function_minus(f,g)\n",
    "print(\"(f-g)(1)=\",minus_comp(1))\n",
    "\n",
    "def composite_function_mult(f,g):\n",
    "    return lambda x: (f(x)*g(x))\n",
    "\n",
    "mult_comp=composite_function_mult(f,g)\n",
    "print(\"(f*g)(1)=\",mult_comp(1))\n",
    "\n",
    "def composite_function_div(f,g):\n",
    "    return lambda x: (f(x)/g(x))\n",
    "\n",
    "div_comp=composite_function_div(f,g)\n",
    "print(\"(f/g)(1)=\",div_comp(1))\n",
    "\n",
    "def composite_function_comp(f,g):\n",
    "    return lambda x: (f(g(x)))"
   ]
  },
  {
   "cell_type": "markdown",
   "id": "584c43da",
   "metadata": {},
   "source": [
    "# 1-02-2023"
   ]
  },
  {
   "cell_type": "markdown",
   "id": "ffd5bd3d",
   "metadata": {},
   "source": [
    "## Limit of a function"
   ]
  },
  {
   "cell_type": "code",
   "execution_count": 8,
   "id": "47f0f763",
   "metadata": {},
   "outputs": [
    {
     "data": {
      "text/latex": [
       "$\\displaystyle \\lim_{x \\to \\infty} \\frac{1}{x}$"
      ],
      "text/plain": [
       "Limit(1/x, x, oo, dir='-')"
      ]
     },
     "execution_count": 8,
     "metadata": {},
     "output_type": "execute_result"
    }
   ],
   "source": [
    "from sympy import Limit, Symbol, S\n",
    "x=Symbol('x')\n",
    "m=Limit(1/x,x,S.Infinity)\n",
    "m"
   ]
  },
  {
   "cell_type": "code",
   "execution_count": 9,
   "id": "724b8c64",
   "metadata": {},
   "outputs": [
    {
     "data": {
      "text/latex": [
       "$\\displaystyle 0$"
      ],
      "text/plain": [
       "0"
      ]
     },
     "execution_count": 9,
     "metadata": {},
     "output_type": "execute_result"
    }
   ],
   "source": [
    "m.doit()"
   ]
  },
  {
   "cell_type": "code",
   "execution_count": 6,
   "id": "2b778f82",
   "metadata": {},
   "outputs": [
    {
     "data": {
      "text/latex": [
       "$\\displaystyle \\lim_{x \\to \\infty} \\left(1 + \\frac{1}{x}\\right)^{x}$"
      ],
      "text/plain": [
       "Limit((1 + 1/x)**x, x, oo, dir='-')"
      ]
     },
     "execution_count": 6,
     "metadata": {},
     "output_type": "execute_result"
    }
   ],
   "source": [
    "from sympy import Limit, Symbol, S\n",
    "x=Symbol('x')\n",
    "m=Limit((1+1/x)**x,x,S.Infinity)\n",
    "m"
   ]
  },
  {
   "cell_type": "code",
   "execution_count": 7,
   "id": "cc026bf3",
   "metadata": {
    "scrolled": true
   },
   "outputs": [
    {
     "data": {
      "text/latex": [
       "$\\displaystyle e$"
      ],
      "text/plain": [
       "E"
      ]
     },
     "execution_count": 7,
     "metadata": {},
     "output_type": "execute_result"
    }
   ],
   "source": [
    "m.doit()"
   ]
  },
  {
   "cell_type": "code",
   "execution_count": 10,
   "id": "3eab2ebb",
   "metadata": {},
   "outputs": [
    {
     "data": {
      "text/latex": [
       "$\\displaystyle \\lim_{x \\to 2^+} \\left(1 + \\frac{1}{x}\\right)^{x}$"
      ],
      "text/plain": [
       "Limit((1 + 1/x)**x, x, 2)"
      ]
     },
     "execution_count": 10,
     "metadata": {},
     "output_type": "execute_result"
    }
   ],
   "source": [
    "from sympy import Limit, Symbol, S\n",
    "x=Symbol('x')\n",
    "m=Limit((1+1/x)**x,x,2)\n",
    "m"
   ]
  },
  {
   "cell_type": "code",
   "execution_count": 11,
   "id": "045057ef",
   "metadata": {},
   "outputs": [
    {
     "data": {
      "text/latex": [
       "$\\displaystyle \\frac{9}{4}$"
      ],
      "text/plain": [
       "9/4"
      ]
     },
     "execution_count": 11,
     "metadata": {},
     "output_type": "execute_result"
    }
   ],
   "source": [
    "m.doit()"
   ]
  },
  {
   "cell_type": "code",
   "execution_count": 12,
   "id": "1ec92753",
   "metadata": {
    "scrolled": true
   },
   "outputs": [
    {
     "name": "stdout",
     "output_type": "stream",
     "text": [
      "Enter the value of limit point: 3\n",
      "z tends to n from left hand side\n",
      "[14.21   14.6025 15.    ]\n",
      "z tends to n from right hand side\n",
      "[15.81   15.4025 15.    ]\n",
      "z at n\n",
      "16.0\n",
      "None\n"
     ]
    }
   ],
   "source": [
    "import numpy as np\n",
    "\n",
    "def limit():\n",
    "    n=float(input(\"Enter the value of limit point: \"))\n",
    "    print(\"z tends to n from left hand side\")\n",
    "    l=np.linspace(n-0.1,n,3)\n",
    "    f1=l**2+2*l\n",
    "    print(f1)\n",
    "    \n",
    "    print(\"z tends to n from right hand side\")\n",
    "    m=np.linspace(n,n+0.1,3)\n",
    "    f2=m**2+2*m\n",
    "    print(f2[::-1])\n",
    "    print(\"z at n\")\n",
    "    f3=n**2+2*n+1\n",
    "    print(f3)\n",
    "\n",
    "print(limit())"
   ]
  },
  {
   "cell_type": "markdown",
   "id": "54cdf0f6",
   "metadata": {},
   "source": [
    "# 02-02-2023"
   ]
  },
  {
   "cell_type": "markdown",
   "id": "9a32747d",
   "metadata": {},
   "source": [
    "## Maxima and Minima"
   ]
  },
  {
   "cell_type": "code",
   "execution_count": 29,
   "id": "ad52cf1b",
   "metadata": {},
   "outputs": [
    {
     "name": "stdout",
     "output_type": "stream",
     "text": [
      "x**2 + x - 2\n",
      "[-2, 1]\n",
      "2*x + 1\n"
     ]
    }
   ],
   "source": [
    "from sympy import *\n",
    "from scipy.optimize import fsolve\n",
    "x=Symbol('x')\n",
    "f=(x**3)/3+(x**2)/2-2*x+7\n",
    "d=diff(f,x)\n",
    "print(d)\n",
    "s=solve(d)\n",
    "print(s)\n",
    "dd=diff(d,x)\n",
    "print(dd)\n",
    "f=lambda x: dd\n"
   ]
  },
  {
   "cell_type": "markdown",
   "id": "1def1862",
   "metadata": {},
   "source": [
    "# 08-02-2023"
   ]
  },
  {
   "cell_type": "code",
   "execution_count": null,
   "id": "06a92198",
   "metadata": {},
   "outputs": [],
   "source": []
  },
  {
   "cell_type": "code",
   "execution_count": 7,
   "id": "79bc5863",
   "metadata": {},
   "outputs": [
    {
     "name": "stdout",
     "output_type": "stream",
     "text": [
      "The given function is:  x**3/3 + 5*x**2/2 + 4*x\n",
      "The first derivative of the function is  x**2 + 5*x + 4\n",
      "The value of the function is given by  [-4, -1]\n",
      "The 2nd derivative of the given function is  2*x + 5\n",
      "Critical points for  x**3/3 + 5*x**2/2 + 4*x  are  -3\n",
      "The value of maxima is  -4\n",
      "Critical points for  x**3/3 + 5*x**2/2 + 4*x  are  3\n",
      "The value of minima is  -1\n"
     ]
    }
   ],
   "source": [
    "from sympy import *\n",
    "import numpy as np\n",
    "x=Symbol('x')\n",
    "f=(x**3)/3+(5*x**2)/2+4*x\n",
    "print(\"The given function is: \",f)\n",
    "d1=diff(f,x)\n",
    "print(\"The first derivative of the function is \",d1)\n",
    "r=solve(d1,x)\n",
    "print(\"The value of the function is given by \",r)\n",
    "d2=diff(f,x,2)\n",
    "print(\"The 2nd derivative of the given function is \",d2)\n",
    "for i in range(0,len(r)):\n",
    "    b=d2.subs(x,r[i])\n",
    "    print(\"Critical points for \",f,\" are \",b)\n",
    "    if(b>0):\n",
    "        print(\"The value of minima is \",r[i])\n",
    "    elif b<0:\n",
    "        print(\"The value of maxima is \",r[i])"
   ]
  },
  {
   "cell_type": "code",
   "execution_count": 6,
   "id": "53f5956e",
   "metadata": {
    "scrolled": false
   },
   "outputs": [
    {
     "name": "stdout",
     "output_type": "stream",
     "text": [
      "The given function is:  4*x**3 + 12*x**2 + 12*x + 10\n",
      "The first derivative of the function is  12*x**2 + 24*x + 12\n",
      "The value of the function is given by  [-1]\n",
      "The 2nd derivative of the given function is  24*(x + 1)\n",
      "Critical points for  4*x**3 + 12*x**2 + 12*x + 10  are  0\n"
     ]
    }
   ],
   "source": [
    "from sympy import *\n",
    "import numpy as np\n",
    "x=Symbol('x')\n",
    "f=(4*x**3)+(12*x**2)+(12*x)+10\n",
    "print(\"The given function is: \",f)\n",
    "d1=diff(f,x)\n",
    "print(\"The first derivative of the function is \",d1)\n",
    "r=solve(d1,x)\n",
    "print(\"The value of the function is given by \",r)\n",
    "d2=diff(f,x,2)\n",
    "print(\"The 2nd derivative of the given function is \",d2)\n",
    "for i in range(0,len(r)):\n",
    "    b=d2.subs(x,r[i])\n",
    "    print(\"Critical points for \",f,\" are \",b)\n",
    "    if(b>0):\n",
    "        print(\"The value of minima is \",r[i])\n",
    "    elif b<0:\n",
    "        print(\"The value of maxima is \",r[i])"
   ]
  },
  {
   "cell_type": "code",
   "execution_count": 27,
   "id": "6e04f0a4",
   "metadata": {
    "scrolled": true
   },
   "outputs": [
    {
     "data": {
      "text/plain": [
       "[<matplotlib.lines.Line2D at 0x1f68030d1c0>]"
      ]
     },
     "execution_count": 27,
     "metadata": {},
     "output_type": "execute_result"
    },
    {
     "data": {
      "image/png": "[encoded data removed]",
      "text/plain": [
       "<Figure size 432x288 with 1 Axes>"
      ]
     },
     "metadata": {
      "needs_background": "light"
     },
     "output_type": "display_data"
    }
   ],
   "source": [
    "import matplotlib.pyplot as plt\n",
    "g=np.linspace(-5,5,100)\n",
    "plt.plot(g,(4*x**3)+(12*x**2)+(12*x)+10)"
   ]
  },
  {
   "cell_type": "code",
   "execution_count": 32,
   "id": "6d93b580",
   "metadata": {
    "scrolled": true
   },
   "outputs": [
    {
     "name": "stdout",
     "output_type": "stream",
     "text": [
      "Enter function:(4*x**3)+(12*x**2)+(12*x)+10\n",
      "The critical points are: [-1]\n",
      "-1 is point of inflection\n"
     ]
    },
    {
     "data": {
      "image/png": "[encoded data removed]",
      "text/plain": [
       "<Figure size 432x288 with 1 Axes>"
      ]
     },
     "metadata": {
      "needs_background": "light"
     },
     "output_type": "display_data"
    }
   ],
   "source": [
    "from sympy import *\n",
    "x=Symbol('x')\n",
    "y=eval(input(\"Enter function:\"))\n",
    "der=diff(y,x)\n",
    "eq=Eq(der,0)\n",
    "j=solve(eq,x)\n",
    "der2=diff(der,x)\n",
    "print(\"The critical points are:\",j)\n",
    "for i in j:\n",
    "    if der2.subs(x,i)>0:\n",
    "        print(\"local minima at\",i)\n",
    "    elif der2.subs(x,i)<0:\n",
    "        print(\"local maxima at\",i)\n",
    "    else:\n",
    "        print(i,\"is point of inflection\")\n",
    "import matplotlib.pyplot as pl\n",
    "import numpy as np\n",
    "xx=np.linspace(-3,3,1000)\n",
    "yy=[]\n",
    "for i in xx:\n",
    "    yy.append(y.subs(x,i))\n",
    "k=[]\n",
    "for i in j:\n",
    "    k.append(y.subs(x,i))\n",
    "pl.plot(xx,yy)\n",
    "for i in range(0,len(j)):\n",
    "    pl.plot(j[i],k[i],'ro')"
   ]
  },
  {
   "cell_type": "markdown",
   "id": "1c9eb541",
   "metadata": {},
   "source": [
    "# 12-02-23"
   ]
  },
  {
   "cell_type": "code",
   "execution_count": 1,
   "id": "7e9eb615",
   "metadata": {},
   "outputs": [
    {
     "name": "stdout",
     "output_type": "stream",
     "text": [
      "Enter function:x**3-12*x**2+36*x+17\n",
      "The critical points are: [2, 6]\n",
      "local maxima at 2\n",
      "local minima at 6\n"
     ]
    }
   ],
   "source": [
    "from sympy import *\n",
    "x=Symbol('x')\n",
    "y=eval(input(\"Enter function:\"))\n",
    "d=diff(y,x)\n",
    "e=Eq(d,0)\n",
    "j=solve(e,x)\n",
    "d2=diff(d,x)\n",
    "print(\"The critical points are:\",j)\n",
    "for i in j:\n",
    "    if d2.subs(x,i)>0:\n",
    "         print(\"local minima at\",i)\n",
    "    elif d2.subs(x,i)<0:\n",
    "         print(\"local maxima at\",i)\n",
    "    else:\n",
    "        print(i,\"is point of inflection\")\n",
    "        "
   ]
  },
  {
   "cell_type": "code",
   "execution_count": 2,
   "id": "8417d74e",
   "metadata": {
    "scrolled": true
   },
   "outputs": [
    {
     "data": {
      "image/png": "[encoded data removed]",
      "text/plain": [
       "<Figure size 432x288 with 1 Axes>"
      ]
     },
     "metadata": {
      "needs_background": "light"
     },
     "output_type": "display_data"
    }
   ],
   "source": [
    "import matplotlib.pyplot as pl\n",
    "import numpy as np\n",
    "x2=np.linspace(1,10,1000)\n",
    "y2=[]\n",
    "for i in x2:\n",
    "    y2.append(y.subs(x,i))\n",
    "t=[]\n",
    "for i in j:\n",
    "    t.append(y.subs(x,i))\n",
    "pl.plot(x2,y2)\n",
    "for i in range(0,len(j)):\n",
    "    pl.plot(j[i],t[i],'ro')"
   ]
  },
  {
   "cell_type": "markdown",
   "id": "04fcd51f",
   "metadata": {},
   "source": [
    "# 16-02-23"
   ]
  },
  {
   "cell_type": "markdown",
   "id": "dea5f525",
   "metadata": {},
   "source": [
    "***Application of Derivatives: cost function, revenue function, marginal cost, marginal revenue***"
   ]
  },
  {
   "cell_type": "markdown",
   "id": "085bb33b",
   "metadata": {},
   "source": [
    "**Suppose a company has estimated that the cost(in dollars) of producing x items is:\n",
    "C(x)=0.01x^2+5x+10000 dollars. Sketch the graph of C(x). Also verify whether the marginal cost at the production level of 500 items is equal to the actual cost of producing the 501st item. (i.e., verify C'(n)=C(n+1)-C(n))**"
   ]
  },
  {
   "cell_type": "code",
   "execution_count": 5,
   "id": "f38d2bf5",
   "metadata": {},
   "outputs": [
    {
     "name": "stdout",
     "output_type": "stream",
     "text": [
      "C(x)= 0.01*x**2 + 5*x + 10000\n",
      "Marginal cost:  0.02*x + 5\n",
      "Marginal cost at 500 is:  15.0000000000000\n",
      "Actual cost of producing the 501st item:  15.0100000000002\n",
      "Verified\n"
     ]
    },
    {
     "data": {
      "image/png": "[encoded data removed]",
      "text/plain": [
       "<Figure size 432x288 with 1 Axes>"
      ]
     },
     "metadata": {
      "needs_background": "light"
     },
     "output_type": "display_data"
    },
    {
     "data": {
      "text/plain": [
       "<sympy.plotting.plot.Plot at 0x1c812334670>"
      ]
     },
     "execution_count": 5,
     "metadata": {},
     "output_type": "execute_result"
    }
   ],
   "source": [
    "from sympy import *\n",
    "x=Symbol('x')\n",
    "cst=0.01*x**2+5*x+10000 \n",
    "print('C(x)=',cst)\n",
    "mrg=diff(cst,x)\n",
    "print(\"Marginal cost: \",mrg)\n",
    "mrg_500=mrg.evalf(subs={x:500})\n",
    "print(\"Marginal cost at 500 is: \",mrg_500)\n",
    "actual_cost_501=cst.evalf(subs={x:501})-cst.evalf(subs={x:500})\n",
    "print(\"Actual cost of producing the 501st item: \",actual_cost_501)\n",
    "if mrg_500==round(actual_cost_501):\n",
    "    print(\"Verified\")\n",
    "plot(cst)"
   ]
  },
  {
   "cell_type": "markdown",
   "id": "f75a1c89",
   "metadata": {},
   "source": [
    "**The cost function for the manufacture of x number of goods by a company is C(x)=x^3-9x^2+24x. Find the level of output at which the marginal cost is minimum. Further, if the selling price of a unit is 2x^3+9x^2, find the average profit.**"
   ]
  },
  {
   "cell_type": "code",
   "execution_count": 7,
   "id": "523e7baf",
   "metadata": {
    "scrolled": true
   },
   "outputs": [
    {
     "name": "stdout",
     "output_type": "stream",
     "text": [
      "C(x)- x**3 - 9*x**2 + 24*x\n",
      "marginal cost= 3*x**2 - 18*x + 24\n",
      "[2, 4]\n",
      "6*(x - 3)\n",
      "critical points for x**3 - 9*x**2 + 24*x are -6\n",
      "The value of minima is 2\n",
      "critical points for x**3 - 9*x**2 + 24*x are 6\n",
      "The value of maxima is 4\n"
     ]
    }
   ],
   "source": [
    "from sympy import*\n",
    "x=Symbol('x')\n",
    "cst_fn= x**3-9*x**2+24*x\n",
    "print('C(x)-',cst_fn)\n",
    "marg_cost=diff(cst_fn,x)\n",
    "print ('marginal cost=',marg_cost)\n",
    "critical_points = solve(marg_cost)\n",
    "print(critical_points)\n",
    "d2 = Derivative(cst_fn, x, 2).doit()\n",
    "print(d2)\n",
    "for i in range(0,len(critical_points)):\n",
    "    b=d2.subs(x,critical_points[i])\n",
    "    print(\"critical points for\",cst_fn,\"are\",b)\n",
    "    if b>0:\n",
    "        print(\"The value of maxima is\",critical_points[i])\n",
    "    elif b<0:\n",
    "        print(\"The value of minima is\",critical_points[i])\n",
    "    else:\n",
    "        print(\"Point of inflection\")"
   ]
  },
  {
   "cell_type": "markdown",
   "id": "2238f9d1",
   "metadata": {},
   "source": [
    "# 22-02-23"
   ]
  },
  {
   "cell_type": "markdown",
   "id": "b4208942",
   "metadata": {},
   "source": [
    "## Solving Differential Equations Using Sympy"
   ]
  },
  {
   "cell_type": "code",
   "execution_count": 3,
   "id": "d862e00d",
   "metadata": {},
   "outputs": [
    {
     "name": "stdout",
     "output_type": "stream",
     "text": [
      "Eq(Derivative(y(x), x), 1)\n"
     ]
    },
    {
     "data": {
      "text/latex": [
       "$\\displaystyle \\frac{d}{d x} y{\\left(x \\right)} = 1$"
      ],
      "text/plain": [
       "Eq(Derivative(y(x), x), 1)"
      ]
     },
     "metadata": {},
     "output_type": "display_data"
    },
    {
     "data": {
      "text/latex": [
       "$\\displaystyle y{\\left(x \\right)} = C_{1} + x$"
      ],
      "text/plain": [
       "Eq(y(x), C1 + x)"
      ]
     },
     "execution_count": 3,
     "metadata": {},
     "output_type": "execute_result"
    }
   ],
   "source": [
    "#1. Solve the differential equation: dy/dx=1 - FIRST ORDER DERIVATIVE\n",
    "from sympy import*\n",
    "x=Symbol(\"x\") #defining independant\n",
    "y=Function(\"y\")(x) #defining dependant\n",
    "D=Eq(y.diff(x),1) #assigning differential equation\n",
    "print(D)\n",
    "display(D)\n",
    "dsolve(D,y)"
   ]
  },
  {
   "cell_type": "code",
   "execution_count": 4,
   "id": "99205849",
   "metadata": {},
   "outputs": [
    {
     "name": "stdout",
     "output_type": "stream",
     "text": [
      "Eq(Derivative(y(x), (x, 2)), 1)\n"
     ]
    },
    {
     "data": {
      "text/latex": [
       "$\\displaystyle \\frac{d^{2}}{d x^{2}} y{\\left(x \\right)} = 1$"
      ],
      "text/plain": [
       "Eq(Derivative(y(x), (x, 2)), 1)"
      ]
     },
     "metadata": {},
     "output_type": "display_data"
    },
    {
     "data": {
      "text/latex": [
       "$\\displaystyle y{\\left(x \\right)} = C_{1} + C_{2} x + \\frac{x^{2}}{2}$"
      ],
      "text/plain": [
       "Eq(y(x), C1 + C2*x + x**2/2)"
      ]
     },
     "execution_count": 4,
     "metadata": {},
     "output_type": "execute_result"
    }
   ],
   "source": [
    "# Solve the differential equation: d^2y/dx^2=1 - SECOND ORDER DERIVATIVE\n",
    "from sympy import*\n",
    "x=Symbol(\"x\") #defining independant\n",
    "y=Function(\"y\")(x) #defining dependant\n",
    "D=Eq(y.diff(x,2),1)#assigning differential equation\n",
    "print(D)\n",
    "display(D)\n",
    "dsolve(D,y)"
   ]
  },
  {
   "cell_type": "markdown",
   "id": "e66e4bee",
   "metadata": {},
   "source": [
    "# 23-02-2023"
   ]
  },
  {
   "cell_type": "markdown",
   "id": "e8f590f9",
   "metadata": {},
   "source": [
    "**Solve: 6y+5dy/dx+d^2y/dx^2=0**"
   ]
  },
  {
   "cell_type": "code",
   "execution_count": 5,
   "id": "093f1c32",
   "metadata": {
    "scrolled": true
   },
   "outputs": [
    {
     "name": "stdout",
     "output_type": "stream",
     "text": [
      "Eq(6*y(x) + 5*Derivative(y(x), x) + Derivative(y(x), (x, 2)), 0)\n"
     ]
    },
    {
     "data": {
      "text/latex": [
       "$\\displaystyle 6 y{\\left(x \\right)} + 5 \\frac{d}{d x} y{\\left(x \\right)} + \\frac{d^{2}}{d x^{2}} y{\\left(x \\right)} = 0$"
      ],
      "text/plain": [
       "Eq(6*y(x) + 5*Derivative(y(x), x) + Derivative(y(x), (x, 2)), 0)"
      ]
     },
     "metadata": {},
     "output_type": "display_data"
    },
    {
     "data": {
      "text/latex": [
       "$\\displaystyle y{\\left(x \\right)} = \\left(C_{1} + C_{2} e^{- x}\\right) e^{- 2 x}$"
      ],
      "text/plain": [
       "Eq(y(x), (C1 + C2*exp(-x))*exp(-2*x))"
      ]
     },
     "execution_count": 5,
     "metadata": {},
     "output_type": "execute_result"
    }
   ],
   "source": [
    "from sympy import*\n",
    "x=Symbol(\"x\")\n",
    "y=Function(\"y\")(x)\n",
    "D=Eq(6*y+5*y.diff(x)+y.diff(x,2),0)\n",
    "print(D)\n",
    "display(D)\n",
    "dsolve(D,y)"
   ]
  },
  {
   "cell_type": "markdown",
   "id": "0a5c3be5",
   "metadata": {},
   "source": [
    "**Solve: d^3 y/dx^3+y=0**"
   ]
  },
  {
   "cell_type": "code",
   "execution_count": 9,
   "id": "707ccf41",
   "metadata": {},
   "outputs": [
    {
     "name": "stdout",
     "output_type": "stream",
     "text": [
      "Eq(y(x) + Derivative(y(x), (x, 3)), 0)\n"
     ]
    },
    {
     "data": {
      "text/latex": [
       "$\\displaystyle y{\\left(x \\right)} + \\frac{d^{3}}{d x^{3}} y{\\left(x \\right)} = 0$"
      ],
      "text/plain": [
       "Eq(y(x) + Derivative(y(x), (x, 3)), 0)"
      ]
     },
     "metadata": {},
     "output_type": "display_data"
    },
    {
     "data": {
      "text/latex": [
       "$\\displaystyle y{\\left(x \\right)} = C_{3} e^{- x} + \\left(C_{1} \\sin{\\left(\\frac{\\sqrt{3} x}{2} \\right)} + C_{2} \\cos{\\left(\\frac{\\sqrt{3} x}{2} \\right)}\\right) e^{\\frac{x}{2}}$"
      ],
      "text/plain": [
       "Eq(y(x), C3*exp(-x) + (C1*sin(sqrt(3)*x/2) + C2*cos(sqrt(3)*x/2))*exp(x/2))"
      ]
     },
     "execution_count": 9,
     "metadata": {},
     "output_type": "execute_result"
    }
   ],
   "source": [
    "from sympy import*\n",
    "x=Symbol(\"x\")\n",
    "y=Function(\"y\")(x)\n",
    "D=Eq(y.diff(x,3)+y,0)\n",
    "print(D)\n",
    "display(D)\n",
    "dsolve(D,y)"
   ]
  },
  {
   "cell_type": "markdown",
   "id": "76a48354",
   "metadata": {},
   "source": [
    "**Solve: d^3 y/dx^3 + y=0; y(2)=2,y(0)=1,y(-1)=0**"
   ]
  },
  {
   "cell_type": "code",
   "execution_count": 14,
   "id": "f35f9e39",
   "metadata": {},
   "outputs": [
    {
     "name": "stdout",
     "output_type": "stream",
     "text": [
      "Eq(y(x) + Derivative(y(x), (x, 3)), 0)\n"
     ]
    },
    {
     "data": {
      "text/latex": [
       "$\\displaystyle y{\\left(x \\right)} + \\frac{d^{3}}{d x^{3}} y{\\left(x \\right)} = 0$"
      ],
      "text/plain": [
       "Eq(y(x) + Derivative(y(x), (x, 3)), 0)"
      ]
     },
     "metadata": {},
     "output_type": "display_data"
    },
    {
     "data": {
      "text/latex": [
       "$\\displaystyle y{\\left(x \\right)} = C_{3} e^{- x} + \\left(C_{1} \\sin{\\left(\\frac{\\sqrt{3} x}{2} \\right)} + C_{2} \\cos{\\left(\\frac{\\sqrt{3} x}{2} \\right)}\\right) e^{\\frac{x}{2}}$"
      ],
      "text/plain": [
       "Eq(y(x), C3*exp(-x) + (C1*sin(sqrt(3)*x/2) + C2*cos(sqrt(3)*x/2))*exp(x/2))"
      ]
     },
     "execution_count": 14,
     "metadata": {},
     "output_type": "execute_result"
    }
   ],
   "source": [
    "from sympy import*\n",
    "x=Symbol(\"x\")\n",
    "y=Function(\"y\")(x)\n",
    "D=Eq(y.diff(x,3)+y,0)\n",
    "print(D)\n",
    "display(D)\n",
    "t=dsolve(D,y)\n",
    "t\n"
   ]
  },
  {
   "cell_type": "markdown",
   "id": "174417a1",
   "metadata": {},
   "source": [
    "# 23-03-23"
   ]
  },
  {
   "cell_type": "markdown",
   "id": "556d908c",
   "metadata": {},
   "source": [
    "## Slope Fields"
   ]
  },
  {
   "cell_type": "markdown",
   "id": "4e26aec1",
   "metadata": {},
   "source": [
    "Plot the slope field for dy/dx=sin(x)+sin(y)"
   ]
  },
  {
   "cell_type": "code",
   "execution_count": 2,
   "id": "d581e6c5",
   "metadata": {},
   "outputs": [
    {
     "data": {
      "text/plain": [
       "Text(0.5, 1.0, 'Slope field for $dy/dx=sin(x)+sin(y)$')"
      ]
     },
     "execution_count": 2,
     "metadata": {},
     "output_type": "execute_result"
    },
    {
     "data": {
      "image/png": "[encoded data removed]",
      "text/plain": [
       "<Figure size 432x288 with 1 Axes>"
      ]
     },
     "metadata": {
      "needs_background": "light"
     },
     "output_type": "display_data"
    }
   ],
   "source": [
    "import numpy as np\n",
    "import matplotlib.pyplot as plt\n",
    "x=np.arange(-3,3,0.3)\n",
    "y=np.arange(-3,3,0.3)\n",
    "X,Y=np.meshgrid(x,y)  # used to create a grid out of two given 1-dimensional arrays representing the Cartesian indexing or\n",
    "# matrix indexing\n",
    "P=np.sin(X)+np.sin(Y) # using the given differential wrt X and Y\n",
    "Q=np.ones(P.shape) # since P and Q must be of same shape so we use this method P.shape is equivalent array method\n",
    "plot1=plt.figure()\n",
    "# figure() function in pyplot module of matplotlib library is used to create a new figure\n",
    "plt.quiver(X,Y,P,Q,color='Blue')\n",
    "plt.title(\"Slope field for $dy/dx=sin(x)+sin(y)$\")"
   ]
  },
  {
   "cell_type": "code",
   "execution_count": null,
   "id": "81cad58c",
   "metadata": {},
   "outputs": [],
   "source": []
  }
 ],
 "metadata": {
  "kernelspec": {
   "display_name": "Python 3",
   "language": "python",
   "name": "python3"
  },
  "language_info": {
   "codemirror_mode": {
    "name": "ipython",
    "version": 3
   },
   "file_extension": ".py",
   "mimetype": "text/x-python",
   "name": "python",
   "nbconvert_exporter": "python",
   "pygments_lexer": "ipython3",
   "version": "3.9.12"
  }
 },
 "nbformat": 4,
 "nbformat_minor": 5
}
